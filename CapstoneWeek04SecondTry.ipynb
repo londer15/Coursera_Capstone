{
 "cells": [
  {
   "cell_type": "markdown",
   "metadata": {},
   "source": [
    "## Open a New Business\n",
    "--------------------------------"
   ]
  },
  {
   "cell_type": "markdown",
   "metadata": {},
   "source": [
    "### Introduction/Business Problem"
   ]
  },
  {
   "cell_type": "markdown",
   "metadata": {},
   "source": [
    "This project targets people that desires start a business, most specifically, an electronic repair shop, in Boston, MA. Here we'll help investors to determine the ideal location surrounding downtown. Despite crowded locations be attractive, we will identify locations where the number of competitors is low or zero, and customers' trust is high.\n",
    "\n",
    "The business targets homeowners living far from downtown, at least 5Km from Boston's central area, that may suffer with heavy traffic and travel long distances just to bring their devices/appliances to be fixed in downtown; these situations expose customers to risks considered to be relatively high, such as, armed robbery, damage during transport, etc. The company will offer affordable and fast repairs in-home in order to attract new customers and stay competitive. Additionally, the service catalog encompasses: computers, smartphone and table, and home appliances repairs."
   ]
  },
  {
   "cell_type": "markdown",
   "metadata": {},
   "source": [
    "### Data"
   ]
  },
  {
   "cell_type": "markdown",
   "metadata": {},
   "source": [
    "The data used to solve the problem are the following:\n",
    "   - Identify areas based on category service;\n",
    "   - Top rated place and store;\n",
    "   - locate store/service based on location;\n",
    "   - locate store based on low rating;\n",
    "   \n",
    "The data used is separeted into two groups. The first group is information about Boston city, neighborhood and demgraphic statistics, both extracted from the official site (https://data.boston.gov/dataset/). The second is regarding find stores/services based on location and top rated place extracted from Foursquare API (https://api.foursquare.com), the requests to the API for this project aims the following services/endpoints:\n",
    "\n",
    "  | Group   | Endpoint    | Description               |\n",
    "  |---------|-------------|---------------------------|\n",
    "  | Venue   | search      | Search for Venues         |\n",
    "  |         | explore     | Get Venue Recommendations |\n",
    "  |         | categories  | Get Venue Categories      |\n",
    "  |         | similiar    | Get Similar Venues        |\n",
    "  |         | nextvenues  | Get Next Venues           |\n",
    "  |         | trending    | Get trending Venues       |\n",
    "  | Checkin | details     | Get details of a Check-in |\n",
    "      \n",
    "The API URL used is https://api.foursquare.com/v2/venues/VENUE_ID for **Venue** and https://api.foursquare.com/v2/checkins/CHECKIN_ID for **Checkins**."
   ]
  }
 ],
 "metadata": {
  "kernelspec": {
   "display_name": "Python 3",
   "language": "python",
   "name": "python3"
  },
  "language_info": {
   "codemirror_mode": {
    "name": "ipython",
    "version": 3
   },
   "file_extension": ".py",
   "mimetype": "text/x-python",
   "name": "python",
   "nbconvert_exporter": "python",
   "pygments_lexer": "ipython3",
   "version": "3.7.0"
  }
 },
 "nbformat": 4,
 "nbformat_minor": 2
}

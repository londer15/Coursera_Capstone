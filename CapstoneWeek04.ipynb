{
 "cells": [
  {
   "cell_type": "markdown",
   "metadata": {},
   "source": [
    "## Open a New Business\n",
    "--------------------------------"
   ]
  },
  {
   "cell_type": "markdown",
   "metadata": {},
   "source": [
    "### Introduction/Business Problem"
   ]
  },
  {
   "cell_type": "markdown",
   "metadata": {},
   "source": [
    "A contractor desires to open a electronic repair shop in Boston, MA. The shop will repair computers, home appliances, and smartphones. The shop will differentiate from competitors by in-home services which fix smartphone in home. \n",
    "\n",
    "The problem is target home-owners living more than 10 Km far from down town and surrounding neighbourhoods with few or none repair shops. So, customers will likely suffer with heavy traffic and travel long distance to down town expose to multiples risks considered to be relatively high in general.\n"
   ]
  },
  {
   "cell_type": "markdown",
   "metadata": {},
   "source": [
    "### Data"
   ]
  },
  {
   "cell_type": "markdown",
   "metadata": {},
   "source": [
    "The data used to solve the problem are the following:\n",
    "   - Identify areas based on category service;\n",
    "   - Top rated place and store;\n",
    "   - locate store/service based on location;\n",
    "   - locate store based on low rating;"
   ]
  }
 ],
 "metadata": {
  "kernelspec": {
   "display_name": "Python 3",
   "language": "python",
   "name": "python3"
  },
  "language_info": {
   "codemirror_mode": {
    "name": "ipython",
    "version": 3
   },
   "file_extension": ".py",
   "mimetype": "text/x-python",
   "name": "python",
   "nbconvert_exporter": "python",
   "pygments_lexer": "ipython3",
   "version": "3.7.0"
  }
 },
 "nbformat": 4,
 "nbformat_minor": 2
}
